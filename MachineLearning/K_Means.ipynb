{
  "cells": [
    {
      "cell_type": "code",
      "source": [
        "from sklearn.cluster import KMeans  # 匯入 KMeans 分群模型\n",
        "from sklearn.datasets import load_iris  # 匯入載入鳶尾花資料集的函式\n",
        "from sklearn.metrics import accuracy_score  # 匯入用來計算準確率的函式\n",
        "\n",
        "# 讀入鳶尾花資料集\n",
        "iris = load_iris()\n",
        "iris_data = iris.data       # 特徵資料（花萼長度、花萼寬度、花瓣長度、花瓣寬度）\n",
        "iris_label = iris.target    # 真實的分類標籤（0, 1, 2 分別對應三種鳶尾花）\n",
        "\n",
        "# 建立 KMeans 分群模型，設定要分成 3 群（因為鳶尾花有 3 個品種）\n",
        "clf = KMeans(n_clusters=3)\n",
        "\n",
        "# 使用 KMeans 模型對資料進行分群\n",
        "iris_clf = clf.fit(iris_data)\n",
        "\n",
        "# 取得模型分群後的標籤結果\n",
        "cluster_labels = iris_clf.labels_\n",
        "\n",
        "# 印出分群結果（模型認為哪些資料屬於哪一群）\n",
        "print(\"分群結果：\")\n",
        "print(cluster_labels)\n",
        "\n",
        "# 印出實際的品種標籤（真實分類）\n",
        "print(\"真實品種：\")\n",
        "print(iris_label)\n",
        "\n",
        "# 計算準確率（但要注意：KMeans 分群的群號不一定和真實標籤一致，因此直接比對可能不準確）\n",
        "print(accuracy_score(cluster_labels, iris_label))\n"
      ],
      "metadata": {
        "id": "g_IybzXfwMI_"
      },
      "execution_count": null,
      "outputs": []
    }
  ],
  "metadata": {
    "colab": {
      "toc_visible": true,
      "provenance": []
    },
    "kernelspec": {
      "display_name": "Python 3",
      "name": "python3"
    }
  },
  "nbformat": 4,
  "nbformat_minor": 0
}