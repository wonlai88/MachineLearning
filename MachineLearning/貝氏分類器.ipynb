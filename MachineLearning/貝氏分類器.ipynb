{
  "cells": [
    {
      "cell_type": "code",
      "source": [
        "# 匯入必要的模組\n",
        "from sklearn import datasets                      # 載入 Scikit-learn 的資料集模組\n",
        "from sklearn.naive_bayes import GaussianNB        # 載入 Gaussian Naive Bayes 分類器\n",
        "from sklearn.model_selection import train_test_split  # 用來將資料分成訓練集與測試集的工具\n",
        "\n",
        "# 載入內建的 Iris 鳶尾花資料集\n",
        "iris = datasets.load_iris()\n",
        "x = iris.data   # 特徵資料（4個花的特徵：萼片長度、萼片寬度、花瓣長度、花瓣寬度）\n",
        "y = iris.target # 標籤資料（0：Setosa、1：Versicolour、2：Virginica）\n",
        "\n",
        "# 將資料分為訓練資料與測試資料（70%訓練、30%測試），random_state 確保每次結果一致\n",
        "train_data, test_data, train_label, test_label = train_test_split(x, y, test_size=0.3, random_state=0)\n",
        "\n",
        "# 建立 Gaussian Naive Bayes 模型\n",
        "clf = GaussianNB()\n",
        "\n",
        "# 使用訓練資料訓練模型\n",
        "clf.fit(train_data, train_label)\n",
        "\n",
        "# 評估模型在訓練資料上的正確率\n",
        "print(\"訓練資料正確率:\", clf.score(train_data, train_label))  # 訓練資料的準確率\n",
        "\n",
        "# 評估模型在測試資料上的正確率\n",
        "print(\"測試資料正確率:\", clf.score(test_data, test_label))  # 測試資料的準確率\n",
        "\n",
        "# 使用模型對測試資料進行預測\n",
        "predict = clf.predict(test_data)\n",
        "\n",
        "# 印出測試資料的標準答案（真實分類）\n",
        "print(\"標準答案:\", test_label)\n",
        "\n",
        "# 印出模型預測的分類結果\n",
        "print(\"預測答案:\", predict)\n"
      ],
      "metadata": {
        "id": "igl76RU8WDS4"
      },
      "execution_count": null,
      "outputs": []
    }
  ],
  "metadata": {
    "colab": {
      "toc_visible": true,
      "provenance": []
    },
    "kernelspec": {
      "display_name": "Python 3",
      "name": "python3"
    }
  },
  "nbformat": 4,
  "nbformat_minor": 0
}