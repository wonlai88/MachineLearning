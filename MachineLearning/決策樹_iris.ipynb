{
  "nbformat": 4,
  "nbformat_minor": 0,
  "metadata": {
    "colab": {
      "provenance": []
    },
    "kernelspec": {
      "name": "python3",
      "display_name": "Python 3"
    },
    "language_info": {
      "name": "python"
    }
  },
  "cells": [
    {
      "cell_type": "code",
      "source": [
        "from sklearn import tree  # 匯入決策樹模組\n",
        "from sklearn.datasets import load_iris  # 匯入鳶尾花資料集\n",
        "from sklearn.model_selection import train_test_split  # 匯入資料切分函式\n",
        "\n",
        "# 讀入鳶尾花資料\n",
        "iris = load_iris()  # 載入鳶尾花資料集\n",
        "iris_data = iris.data  # 取得特徵資料（花萼長度、花萼寬度、花瓣長度、花瓣寬度）\n",
        "iris_label = iris.target  # 取得標籤資料（花的品種）\n",
        "\n",
        "# 切分訓練與測試資料，test_size=0.3 表示 30% 做為測試資料，70% 做為訓練資料\n",
        "train_data, test_data, train_label, test_label = train_test_split(iris_data, iris_label, test_size=0.3)\n",
        "\n",
        "# 建立決策樹分類器\n",
        "clf = tree.DecisionTreeClassifier()  # 建立分類器物件\n",
        "iris_clf = clf.fit(train_data, train_label)  # 使用訓練資料來訓練模型\n",
        "\n",
        "# 顯示模型在訓練資料上的正確率\n",
        "print(\"訓練資料正確率:\", clf.score(train_data, train_label))\n",
        "\n",
        "# 顯示模型在測試資料上的正確率（泛化能力）\n",
        "print(\"測試資料正確率:\", clf.score(test_data, test_label))\n",
        "\n",
        "# 對測試資料進行預測\n",
        "predict = clf.predict(test_data)\n",
        "\n",
        "# 輸出實際的標準答案（真實標籤）\n",
        "print(\"標準答案:\", test_label)\n",
        "\n",
        "# 輸出模型預測的結果\n",
        "print(\"預測答案:\", predict)\n"
      ],
      "metadata": {
        "id": "9kSsYRlGQ6Yo"
      },
      "execution_count": null,
      "outputs": []
    },
    {
      "cell_type": "code",
      "source": [
        "import pydotplus  # 匯入 pydotplus，用來產生 Graphviz 的圖形\n",
        "from IPython.display import Image  # 匯入 IPython 的 Image 顯示模組，用來在 Jupyter 中顯示圖片\n",
        "\n",
        "# 使用 export_graphviz 將決策樹轉換成 Graphviz 的 DOT 格式字串\n",
        "dot_data = tree.export_graphviz(\n",
        "    clf,  # 使用訓練好的決策樹模型\n",
        "    out_file=None,  # 不輸出到檔案，直接生成文字\n",
        "    feature_names=iris.feature_names,  # 指定特徵名稱（對應花的各個數據欄位）\n",
        "    class_names=iris.target_names,  # 指定類別名稱（對應花的品種）\n",
        "    filled=True,  # 節點使用顏色填滿，依照分類情況顯示\n",
        "    rounded=True,  # 節點邊框使用圓角顯示\n",
        "    special_characters=True  # 處理特殊字元（例如空格）\n",
        ")\n",
        "\n",
        "# 將 DOT 格式文字轉換成圖形物件\n",
        "graph = pydotplus.graph_from_dot_data(dot_data)\n",
        "\n",
        "# 將圖形轉成 PNG 並在 Jupyter Notebook 中顯示出來\n",
        "Image(graph.create_png())\n"
      ],
      "metadata": {
        "id": "S8lLfXZgQ7Ng"
      },
      "execution_count": null,
      "outputs": []
    }
  ]
}