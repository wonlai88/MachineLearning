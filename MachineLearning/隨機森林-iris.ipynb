{
  "nbformat": 4,
  "nbformat_minor": 0,
  "metadata": {
    "colab": {
      "provenance": []
    },
    "kernelspec": {
      "name": "python3",
      "display_name": "Python 3"
    },
    "language_info": {
      "name": "python"
    }
  },
  "cells": [
    {
      "cell_type": "code",
      "execution_count": null,
      "metadata": {
        "id": "KXRIOFPTPKNO"
      },
      "outputs": [],
      "source": [
        "from sklearn.ensemble import RandomForestClassifier  # 引入隨機森林分類器\n",
        "from sklearn.datasets import load_iris  # 引入鳶尾花資料集\n",
        "from sklearn.model_selection import train_test_split  # 引入資料切分函式\n",
        "\n",
        "# 讀入鳶尾花資料集\n",
        "iris = load_iris()\n",
        "iris_data = iris.data  # 特徵資料 (4個特徵，分別是花瓣長度、花瓣寬度、花萼長度、花萼寬度)\n",
        "iris_label = iris.target  # 標籤資料 (0, 1, 2 分別對應三種鳶尾花品種)\n",
        "\n",
        "# 切分訓練與測試資料，test_size=0.3 表示 30% 的資料作為測試集，70% 作為訓練集\n",
        "train_data, test_data, train_label, test_label = train_test_split(iris_data, iris_label, test_size=0.3)\n",
        "\n",
        "# 建立隨機森林分類器，設定隨機森林的樹數量為 30，最大樹深度為 4\n",
        "clf = RandomForestClassifier(n_estimators=30, max_depth=4)\n",
        "\n",
        "# 使用訓練資料來訓練隨機森林分類器\n",
        "iris_clf = clf.fit(train_data, train_label)\n",
        "\n",
        "# 訓練資料的準確度 (用來檢查訓練集上的預測能力)\n",
        "print(\"訓練資料正確率:\", clf.score(train_data, train_label))\n",
        "\n",
        "# 測試資料的準確度 (用來檢查測試集上的預測能力)\n",
        "print(\"測試資料正確率:\", clf.score(test_data, test_label))\n",
        "\n",
        "# 使用訓練好的模型對測試資料進行預測\n",
        "predict = clf.predict(test_data)\n",
        "\n",
        "# 輸出測試集的標準答案 (真實的標籤)\n",
        "print(\"標準答案:\", test_label)\n",
        "\n",
        "# 輸出模型對測試集的預測結果\n",
        "print(\"預測答案:\", predict)\n"
      ]
    }
  ]
}