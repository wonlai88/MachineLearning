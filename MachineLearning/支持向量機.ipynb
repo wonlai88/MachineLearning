{
  "cells": [
    {
      "cell_type": "code",
      "source": [
        "# 匯入必要的模組\n",
        "from sklearn import datasets, svm                          # 載入內建資料集與支援向量機模組\n",
        "from sklearn.model_selection import train_test_split       # 用於切分資料集的函式\n",
        "\n",
        "# 載入 Iris 鳶尾花資料集\n",
        "iris = datasets.load_iris()\n",
        "x = iris.data   # 特徵資料（花的各種數值特徵）\n",
        "y = iris.target # 標籤資料（目標分類：0、1、2 分別對應三種花）\n",
        "\n",
        "# 將資料集分成訓練集與測試集（test_size=0.3 表示 30% 測試資料，70% 訓練資料）\n",
        "train_data, test_data, train_label, test_label = train_test_split(x, y, test_size=0.3, random_state=0)\n",
        "\n",
        "# 建立支援向量機分類器\n",
        "# kernel='poly'：使用多項式函數作為 kernel（核函數）\n",
        "# gamma='auto'：自動設定 gamma 值（γ = 1 / n_features）\n",
        "# C=100：懲罰參數，值越大越注重準確分類訓練資料（可能導致過擬合）\n",
        "clf = svm.SVC(kernel='poly', gamma='auto', C=100)\n",
        "\n",
        "# 使用訓練資料訓練模型\n",
        "clf.fit(train_data, train_label)\n",
        "\n",
        "# 評估模型在訓練資料上的準確率\n",
        "print(\"訓練資料正確率:\", clf.score(train_data, train_label))  # 訓練資料的準確率\n",
        "\n",
        "# 評估模型在測試資料上的準確率\n",
        "print(\"測試資料正確率:\", clf.score(test_data, test_label))  # 測試資料的準確率\n",
        "\n",
        "# 使用模型對測試資料進行預測\n",
        "predict = clf.predict(test_data)\n",
        "\n",
        "# 印出測試資料的標準答案（實際分類）\n",
        "print(\"標準答案:\", test_label)\n",
        "\n",
        "# 印出模型預測的分類結果\n",
        "print(\"預測答案:\", predict)\n"
      ],
      "metadata": {
        "id": "ZSGe2fwQW79o"
      },
      "execution_count": null,
      "outputs": []
    }
  ],
  "metadata": {
    "colab": {
      "toc_visible": true,
      "provenance": []
    },
    "kernelspec": {
      "display_name": "Python 3",
      "name": "python3"
    }
  },
  "nbformat": 4,
  "nbformat_minor": 0
}